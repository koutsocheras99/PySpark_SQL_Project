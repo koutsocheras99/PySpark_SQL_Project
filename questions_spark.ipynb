{
 "cells": [
  {
   "cell_type": "code",
   "execution_count": null,
   "id": "8daa2f56",
   "metadata": {},
   "outputs": [],
   "source": [
    "from pyspark.sql import SparkSession\n",
    "from pyspark.sql.window import Window\n",
    "from sparkmeasure import StageMetrics\n",
    "from pyspark.sql.functions import *\n",
    "import pyspark.sql.functions as f\n",
    "import numpy as np\n",
    "import pandas as pd\n",
    "import random\n",
    "\n",
    "\n",
    "spark = SparkSession \\\n",
    "    .builder \\\n",
    "    .master('spark:http://192.168.1.254:7077')\\\n",
    "    .appName('Database 2 project') \\\n",
    "    .config('spark.jars', '/Users/kouts/OneDrive/Documents/spark-measure_2.12-0.17.jar') \\\n",
    "    .config('spark.executor.cores', '2')\\\n",
    "    .config('spark.executor.memory', '1G')\\\n",
    "    .config('spark.drivers.cores', '2')\\\n",
    "    .config('spark.drivers.memory', '1G')\\\n",
    "    .getOrCreate()\n",
    "\n",
    "\n",
    "#create spark metrics object\n",
    "stagemetrics = StageMetrics(spark)"
   ]
  },
  {
   "cell_type": "code",
   "execution_count": null,
   "id": "63319bb9",
   "metadata": {},
   "outputs": [],
   "source": [
    "movie_df = spark.read.csv('movie.csv',\n",
    "                    sep=',',\n",
    "                    header=True,\n",
    "                    inferSchema=True,\n",
    "                    )\n",
    "movie_df.createOrReplaceTempView('movie_df_table')"
   ]
  },
  {
   "cell_type": "code",
   "execution_count": null,
   "id": "eb6b2915",
   "metadata": {},
   "outputs": [],
   "source": [
    "tag_df = spark.read.csv('tag.csv',\n",
    "                    sep=',',\n",
    "                    header=True,\n",
    "                    inferSchema=True,\n",
    "                    )\n",
    "tag_df.createOrReplaceTempView('tag_df_table')"
   ]
  },
  {
   "cell_type": "code",
   "execution_count": null,
   "id": "b0e8a741",
   "metadata": {},
   "outputs": [],
   "source": [
    "genome_df = spark.read.csv('genome_tags.csv',\n",
    "                    sep=',',\n",
    "                    header=True,\n",
    "                    inferSchema=True,\n",
    "                    )\n",
    "genome_df.createOrReplaceTempView('genome_df_table')"
   ]
  },
  {
   "cell_type": "code",
   "execution_count": null,
   "id": "c9493915",
   "metadata": {},
   "outputs": [],
   "source": [
    "rating_df = spark.read.csv('rating.csv',\n",
    "                    sep=',',\n",
    "                    header=True,\n",
    "                    inferSchema=True,\n",
    "                    )\n",
    "rating_df.createOrReplaceTempView('rating_df_table')"
   ]
  },
  {
   "cell_type": "code",
   "execution_count": null,
   "id": "4f07320d",
   "metadata": {},
   "outputs": [],
   "source": [
    "# Question 1"
   ]
  },
  {
   "cell_type": "code",
   "execution_count": null,
   "id": "72d2c029",
   "metadata": {},
   "outputs": [],
   "source": [
    "# start measuring performance\n",
    "stagemetrics.begin()\n",
    "\n",
    "\n",
    "# join the two required tables and get a new table that contains the movies that cointain the keyword 'Jumanji'\n",
    "joined_dataframe = rating_df.join(movie_df, rating_df['movieId'] == movie_df['movieId'], 'inner')\\\n",
    "                            .filter(movie_df.title.contains('Jumanji'))\n",
    "\n",
    "# joined_dataframe.count()\n",
    "\n",
    "joined_dataframe.select(count(joined_dataframe.title).alias('Jumanji reviews')).show()\n",
    "\n",
    "# stop measuring performance\n",
    "stagemetrics.end()\n",
    "\n",
    "# print performance metrics\n",
    "stagemetrics.print_report()"
   ]
  },
  {
   "cell_type": "code",
   "execution_count": null,
   "id": "83737600",
   "metadata": {},
   "outputs": [],
   "source": [
    "# Question 2"
   ]
  },
  {
   "cell_type": "code",
   "execution_count": null,
   "id": "60e89e1b",
   "metadata": {},
   "outputs": [],
   "source": [
    "# start measuring performance\n",
    "stagemetrics.begin()\n",
    "\n",
    "# join the two required tables and get only the movies whom the tags contain the word boring\n",
    "joined_dataframe = movie_df.join(tag_df, movie_df['movieId'] == tag_df['movieId'], 'inner')\\\n",
    "                           .withColumn('tag', lower(col('tag')))\\\n",
    "                           .filter(tag_df.tag.contains('boring')) \n",
    "\n",
    "\n",
    "# drop title duplicates                                                           \n",
    "joined_dataframe = joined_dataframe.dropDuplicates(['title']) \n",
    "\n",
    "# sort in alphabetical order by title\n",
    "joined_dataframe = joined_dataframe.orderBy('title')\n",
    "\n",
    "# show only the first 5\n",
    "joined_dataframe.select('title').show(5, truncate=False)\n",
    "\n",
    "# stop measuring performance\n",
    "stagemetrics.end()\n",
    "\n",
    "# print performance metrics\n",
    "stagemetrics.print_report()"
   ]
  },
  {
   "cell_type": "code",
   "execution_count": null,
   "id": "36d6c6c2",
   "metadata": {},
   "outputs": [],
   "source": [
    "# Question 3"
   ]
  },
  {
   "cell_type": "code",
   "execution_count": null,
   "id": "1500feaa",
   "metadata": {},
   "outputs": [],
   "source": [
    "# start measuring performance\n",
    "stagemetrics.begin()\n",
    "\n",
    "# the keyword 'bollywood' can be everywhere in the tag description\n",
    "spark.sql(\"SELECT DISTINCT rating_df_table.userId \\\n",
    "           FROM rating_df_table \\\n",
    "           INNER JOIN tag_df_table ON tag_df_table.movieId = rating_df_table.movieId\\\n",
    "           WHERE LOWER(tag_df_table.tag) LIKE '%bollywood%'\\\n",
    "           AND rating_df_table.rating > 3\\\n",
    "           AND tag_df_table.userId = rating_df_table.userId\\\n",
    "           ORDER BY rating_df_table.userId\\\n",
    "           LIMIT 5\").show()\n",
    "\n",
    "# stop measuring performance\n",
    "stagemetrics.end()\n",
    "\n",
    "# print performance metrics\n",
    "stagemetrics.print_report()"
   ]
  },
  {
   "cell_type": "code",
   "execution_count": null,
   "id": "f3f66cc5",
   "metadata": {},
   "outputs": [],
   "source": [
    "# Question 4"
   ]
  },
  {
   "cell_type": "code",
   "execution_count": null,
   "id": "0fad0c07",
   "metadata": {},
   "outputs": [],
   "source": [
    "# list containing the years\n",
    "years_list = list(range(1995, 2016))\n",
    "\n",
    "# start measuring performance\n",
    "stagemetrics.begin()\n",
    "\n",
    "for year in years_list:\n",
    "    # remove this if-statement if you want to test all years\n",
    "    if year == 2005:\n",
    "        spark.sql(\"SELECT movie_df_table.movieId\\\n",
    "               FROM movie_df_table\\\n",
    "               INNER JOIN rating_df_table ON rating_df_table.movieId = movie_df_table.movieId\\\n",
    "               WHERE EXTRACT(year FROM rating_df_table.timestamp) = {}\\\n",
    "               GROUP BY movie_df_table.movieId\\\n",
    "               ORDER BY AVG(rating_df_table.rating) desc\\\n",
    "               LIMIT 10\".format(year)).show()\n",
    "\n",
    "        \n",
    "# stop measuring performance\n",
    "stagemetrics.end()\n",
    "\n",
    "# print performance metrics\n",
    "stagemetrics.print_report()"
   ]
  },
  {
   "cell_type": "code",
   "execution_count": null,
   "id": "e7b0d18f",
   "metadata": {},
   "outputs": [],
   "source": [
    "# Question 5"
   ]
  },
  {
   "cell_type": "code",
   "execution_count": null,
   "id": "12987101",
   "metadata": {},
   "outputs": [],
   "source": [
    "# start measuring performance\n",
    "stagemetrics.begin()\n",
    "\n",
    "# sorting alphabetically by the movies titles, not the tags\n",
    "joined_dataframe = movie_df.join(tag_df, movie_df['movieId'] == tag_df['movieId'], 'inner')\\\n",
    "                           .filter(tag_df.timestamp.contains('2015'))\\\n",
    "                           .sort(asc('title'))\n",
    "# drop title duplicates\n",
    "joined_dataframe = joined_dataframe.dropDuplicates(['title']) \n",
    "\n",
    "# joined_dataframe.show()\n",
    "\n",
    "# convert dataframe to sql table\n",
    "joined_dataframe.createOrReplaceTempView('joined_dataframe_table')\n",
    "\n",
    "# concatenate the tags\n",
    "spark.sql('SELECT title, concat_ws(\",\",collect_list(tag)) AS Concatenated_Tags\\\n",
    "           FROM joined_dataframe_table\\\n",
    "           GROUP BY title').show(5, truncate=False)\n",
    "\n",
    "# stop measuring performance\n",
    "stagemetrics.end()\n",
    "\n",
    "# print performance metrics\n",
    "stagemetrics.print_report()"
   ]
  },
  {
   "cell_type": "code",
   "execution_count": null,
   "id": "7e4d6610",
   "metadata": {},
   "outputs": [],
   "source": [
    "# Question 6"
   ]
  },
  {
   "cell_type": "code",
   "execution_count": null,
   "id": "4c587cb3",
   "metadata": {},
   "outputs": [],
   "source": [
    "# start measuring performance\n",
    "stagemetrics.begin()\n",
    "\n",
    "spark.sql(\"SELECT movie_df_table.title, COUNT(rating_df_table.rating) \\\n",
    "           FROM movie_df_table \\\n",
    "           INNER JOIN rating_df_table ON rating_df_table.movieId = movie_df_table.movieId\\\n",
    "           GROUP BY(movie_df_table.title)\\\n",
    "           ORDER BY COUNT(rating_df_table.rating) DESC\\\n",
    "           LIMIT 5\").show(truncate=False)\n",
    "\n",
    "# stop measuring performance\n",
    "stagemetrics.end()\n",
    "\n",
    "# print performance metrics\n",
    "stagemetrics.print_report()"
   ]
  },
  {
   "cell_type": "code",
   "execution_count": null,
   "id": "89a79f2a",
   "metadata": {},
   "outputs": [],
   "source": [
    "# Question 7"
   ]
  },
  {
   "cell_type": "code",
   "execution_count": null,
   "id": "63bd73d8",
   "metadata": {},
   "outputs": [],
   "source": [
    "years_list = list(range(1995, 2016))\n",
    "\n",
    "# start measuring performance\n",
    "stagemetrics.begin()\n",
    "\n",
    "for year in years_list:\n",
    "    # remove this if-statement if you want to test all years\n",
    "    if year == 1995:\n",
    "        spark.sql(\"SELECT userId, COUNT(rating)\\\n",
    "                       FROM rating_df_table\\\n",
    "                       WHERE EXTRACT(year FROM rating_df_table.timestamp) = {}\\\n",
    "                       GROUP BY(userId)\\\n",
    "                       ORDER BY COUNT(rating) DESC\\\n",
    "                       LIMIT 10\".format(year)).show()\n",
    "        \n",
    "# stop measuring performance\n",
    "stagemetrics.end()\n",
    "\n",
    "# print performance metrics\n",
    "stagemetrics.print_report()"
   ]
  },
  {
   "cell_type": "code",
   "execution_count": null,
   "id": "0ec8263d",
   "metadata": {},
   "outputs": [],
   "source": [
    "# Question 8"
   ]
  },
  {
   "cell_type": "code",
   "execution_count": null,
   "id": "aa452868",
   "metadata": {},
   "outputs": [],
   "source": [
    "# start measuring performance\n",
    "stagemetrics.begin()\n",
    "\n",
    "new_dataframe = movie_df.select('title','movieId', f.split('genres', '[|]').alias('Genre'),\\\n",
    "                        f.posexplode(f.split('genres', '[|]')).alias('pos', 'val'))\\\n",
    "                        .drop('val').select('title','movieId',f.expr('Genre[pos]').alias('Genre')).show()\n",
    "            \n",
    "# dataframe containing the ratings number\n",
    "ratings_count_df = rating_df.select(rating_df['movieId']).groupby(rating_df['movieId']).agg(count('movieId').alias('numOfRatings'))\n",
    "\n",
    "# dataframe containing the ratings count df and joined to categorize by genre\n",
    "joined_df = new_dataframe.join(ratings_count_df, (new_dataframe.movieId==ratings_count_df.movieId), 'inner').select(new_dataframe['genre'], new_dataframe['title'], ratings_count_df['views'])\n",
    "\n",
    "# get the max view by the genre\n",
    "final_df = joined_df.groupby(joined_df['Genre']).agg(max('numOfRatings'))\n",
    "\n",
    "final_df = final_df.join(joined_df, (final_df.Views==joined_df.views), 'inner').select(joined_df['Genre'], joined_df['title'], final_df['numOfRatings']).orderBy(joined_df['Genre'].asc()).dropDuplicates()\n",
    "\n",
    "# first row equals to no genres listed, therefore dont include it \n",
    "final_df.filter(final_df['Genre']!='(no genres listed)').show(5,False)\n",
    "\n",
    "# stop measuring performance\n",
    "stagemetrics.end()\n",
    "\n",
    "# print performance metrics\n",
    "stagemetrics.print_report()"
   ]
  },
  {
   "cell_type": "code",
   "execution_count": null,
   "id": "392e6ca6",
   "metadata": {},
   "outputs": [],
   "source": [
    "# Question 9"
   ]
  },
  {
   "cell_type": "code",
   "execution_count": null,
   "id": "00ec72c6",
   "metadata": {},
   "outputs": [],
   "source": [
    "# start measuring performance\n",
    "stagemetrics.begin()\n",
    "\n",
    "# we want same movieId+timestamp(group by) and at least two different userId(count of distinct userId>1)\n",
    "spark.sql(\"SELECT SUM(*) AS COUNT FROM\\\n",
    "          (SELECT COUNT(DISTINCT userId) NumberOfViewers FROM rating_df_table\\\n",
    "           GROUP BY movieId,timestamp\\\n",
    "           HAVING COUNT(DISTINCT userId) > 1)\").show(truncate=False)\n",
    "\n",
    "# stop measuring performance\n",
    "stagemetrics.end()\n",
    "\n",
    "# print performance metrics\n",
    "stagemetrics.print_report()"
   ]
  },
  {
   "cell_type": "code",
   "execution_count": null,
   "id": "64d7db9c",
   "metadata": {},
   "outputs": [],
   "source": [
    "# Question 10"
   ]
  },
  {
   "cell_type": "code",
   "execution_count": null,
   "id": "024f0d96",
   "metadata": {},
   "outputs": [],
   "source": [
    "# start measuring performance\n",
    "stagemetrics.begin()\n",
    "\n",
    "#separate genres of the movies, unique genres\n",
    "new_dataframe = movie_df.select('movieId',f.split('genres', '[|]').alias('genre'),\n",
    "                f.posexplode(f.split('genres', '[|]')).alias('pos', 'val'))\\\n",
    "                .drop('val')\\\n",
    "                .select('movieId',f.expr('genre[pos]').alias('genre'))\n",
    "\n",
    "# get the dataframe where the tags are funny\n",
    "funny_tags_df = tag_df.filter(tag_df['tag']=='funny').select(tag_df['movieId'],tag_df['tag'])\n",
    "\n",
    "# join funny_tags_df with ratings_df\n",
    "joined_dataframe = rating_df.join(funny_tags_df, (rating_df.movieId==funny_tags_df.movieId), 'inner').filter(rating_df['rating'] > 3.5).select(rating_df['movieId']).groupby(rating_df['movieId']).count()\n",
    "\n",
    "# calculating the number of movies by genre\n",
    "final_df = new_dataframe.join(joined_dataframe, (new_dataframe.movieId==joined_dataframe.movieId), 'inner').select(new_dataframe['genre'],joined_dataframe['movieId']).orderBy(new_dataframe['genre'].asc())\n",
    "\n",
    "# groubpy by genre\n",
    "final_df = final_df.groupby(final_df['genre']).count()\n",
    "\n",
    "# sort alphabetically by genre column\n",
    "final_df = final_df.sort(final_df['genre'])\n",
    "\n",
    "final_df.show(5)\n",
    "\n",
    "# stop measuring performance\n",
    "stagemetrics.end()\n",
    "\n",
    "# print performance metrics\n",
    "stagemetrics.print_report()"
   ]
  },
  {
   "cell_type": "code",
   "execution_count": null,
   "id": "89ce0bbe",
   "metadata": {},
   "outputs": [],
   "source": []
  }
 ],
 "metadata": {
  "kernelspec": {
   "display_name": "Python 3",
   "language": "python",
   "name": "python3"
  },
  "language_info": {
   "codemirror_mode": {
    "name": "ipython",
    "version": 3
   },
   "file_extension": ".py",
   "mimetype": "text/x-python",
   "name": "python",
   "nbconvert_exporter": "python",
   "pygments_lexer": "ipython3",
   "version": "3.8.8"
  }
 },
 "nbformat": 4,
 "nbformat_minor": 5
}
